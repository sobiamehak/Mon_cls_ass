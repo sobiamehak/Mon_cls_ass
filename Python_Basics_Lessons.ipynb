{
  "nbformat": 4,
  "nbformat_minor": 0,
  "metadata": {
    "colab": {
      "provenance": [],
      "authorship_tag": "ABX9TyOBJr0SZXCnjYuVfneeBCT0",
      "include_colab_link": true
    },
    "kernelspec": {
      "name": "python3",
      "display_name": "Python 3"
    },
    "language_info": {
      "name": "python"
    }
  },
  "cells": [
    {
      "cell_type": "markdown",
      "metadata": {
        "id": "view-in-github",
        "colab_type": "text"
      },
      "source": [
        "<a href=\"https://colab.research.google.com/github/sobiamehak/Mon_cls_ass/blob/main/Python_Basics_Lessons.ipynb\" target=\"_parent\"><img src=\"https://colab.research.google.com/assets/colab-badge.svg\" alt=\"Open In Colab\"/></a>"
      ]
    },
    {
      "cell_type": "code",
      "execution_count": 1,
      "metadata": {
        "colab": {
          "base_uri": "https://localhost:8080/"
        },
        "id": "VfC2EiuRluZQ",
        "outputId": "3f1ab4b4-ba8a-4370-bcf4-5c0349199ab9"
      },
      "outputs": [
        {
          "output_type": "stream",
          "name": "stdout",
          "text": [
            "Eligible to vote.\n",
            "0\n",
            "1\n",
            "2\n",
            "3\n",
            "4\n",
            "1\n",
            "2\n",
            "3\n",
            "4\n",
            "5\n"
          ]
        }
      ],
      "source": [
        "## ------------------------------\n",
        "# Lesson 05: Control Flow & Loops\n",
        "# ------------------------------\n",
        "\n",
        "# --- IF-ELSE CONDITION ---\n",
        "# Check if a person is eligible to vote based on age\n",
        "\n",
        "age = 18  # Assigning age\n",
        "if age >= 18:\n",
        "    print(\"You are eligible to vote.\")  # Executes if condition is true\n",
        "else:\n",
        "    print(\"You are not eligible to vote.\")  # Executes if condition is false\n",
        "\n",
        "\n",
        "# --- IF-ELIF-ELSE LADDER ---\n",
        "# Check student's grade based on marks\n",
        "\n",
        "marks = 85\n",
        "if marks >= 80:\n",
        "    print(\"Grade: A+\")\n",
        "elif marks >= 70:\n",
        "    print(\"Grade: A\")\n",
        "elif marks >= 60:\n",
        "    print(\"Grade: B\")\n",
        "else:\n",
        "    print(\"Grade: Fail\")\n",
        "\n",
        "\n",
        "# --- FOR LOOP ---\n",
        "# Print numbers from 1 to 5 using for loop\n",
        "\n",
        "print(\"For loop output:\")\n",
        "for i in range(1, 6):\n",
        "    print(i)  # i will take values from 1 to 5\n",
        "\n",
        "\n",
        "# --- WHILE LOOP ---\n",
        "# Print numbers from 1 to 5 using while loop\n",
        "\n",
        "print(\"While loop output:\")\n",
        "count = 1\n",
        "while count <= 5:\n",
        "    print(count)  # Print current value\n",
        "    count += 1    # Increment the value by 1\n",
        "\n"
      ]
    },
    {
      "cell_type": "code",
      "source": [
        "# ----------------------------------------\n",
        "# Lesson 06: Lists, Tuples & Dictionaries\n",
        "# ----------------------------------------\n",
        "\n",
        "# --- LISTS ---\n",
        "# List is a mutable (changeable) collection of items\n",
        "\n",
        "fruits = [\"apple\", \"banana\", \"cherry\"]\n",
        "print(\"Original list of fruits:\", fruits)\n",
        "\n",
        "fruits.append(\"mango\")  # Add new item at the end\n",
        "print(\"After appending mango:\", fruits)\n",
        "\n",
        "fruits.remove(\"banana\")  # Remove an item\n",
        "print(\"After removing banana:\", fruits)\n",
        "\n",
        "\n",
        "# --- TUPLES ---\n",
        "# Tuple is an immutable (unchangeable) collection\n",
        "\n",
        "colors = (\"red\", \"green\", \"blue\")\n",
        "print(\"Tuple of colors:\", colors)\n",
        "\n",
        "# Accessing element by index\n",
        "print(\"First color in tuple:\", colors[0])\n",
        "\n",
        "\n",
        "# --- DICTIONARIES ---\n",
        "# Dictionary stores data in key-value pairs\n",
        "\n",
        "student = {\n",
        "    \"name\": \"Ali\",\n",
        "    \"age\": 20,\n",
        "    \"grade\": \"A\"\n",
        "}\n",
        "\n",
        "print(\"Student dictionary:\", student)\n",
        "\n",
        "# Accessing values by key\n",
        "print(\"Student name:\", student[\"name\"])\n",
        "\n",
        "# Updating dictionary value\n",
        "student[\"age\"] = 21\n",
        "print(\"Updated student age:\", student[\"age\"])\n"
      ],
      "metadata": {
        "id": "u6Ttgvj-n8gp"
      },
      "execution_count": null,
      "outputs": []
    },
    {
      "cell_type": "code",
      "source": [
        "# -------------------------------\n",
        "# Lesson 07: Set & Frozenset\n",
        "# -------------------------------\n",
        "\n",
        "# --- SET ---\n",
        "# Set is an unordered collection with no duplicate values\n",
        "\n",
        "numbers = {1, 2, 3, 4}\n",
        "print(\"Original set:\", numbers)\n",
        "\n",
        "numbers.add(5)  # Add an element\n",
        "print(\"After adding 5:\", numbers)\n",
        "\n",
        "numbers.remove(2)  # Remove an element\n",
        "print(\"After removing 2:\", numbers)\n",
        "\n",
        "# Removing duplicates from a list using set\n",
        "nums_with_duplicates = [1, 2, 2, 3, 4, 4, 5]\n",
        "unique_nums = set(nums_with_duplicates)\n",
        "print(\"Unique values from list:\", unique_nums)\n",
        "\n",
        "\n",
        "# --- FROZENSET ---\n",
        "# Frozenset is an immutable version of set (cannot change it)\n",
        "\n",
        "frozen = frozenset([1, 2, 3, 4])\n",
        "print(\"Frozenset:\", frozen)\n",
        "\n",
        "# frozen.add(5)  # ❌ Error: Cannot add to frozenset\n"
      ],
      "metadata": {
        "colab": {
          "base_uri": "https://localhost:8080/"
        },
        "id": "HYJ3GX0-mGtA",
        "outputId": "6652b856-90bd-4d63-c382-16addd781f97"
      },
      "execution_count": 2,
      "outputs": [
        {
          "output_type": "stream",
          "name": "stdout",
          "text": [
            "['apple', 'banana', 'cherry']\n",
            "('red', 'green', 'blue')\n",
            "{'name': 'Ali', 'age': 20}\n"
          ]
        }
      ]
    },
    {
      "cell_type": "code",
      "source": [
        "# Set\n",
        "nums = {1, 2, 3}\n",
        "nums.add(4)\n",
        "print(nums)\n",
        "\n",
        "# Frozenset\n",
        "frozen = frozenset([1, 2, 3])\n",
        "print(frozen)\n"
      ],
      "metadata": {
        "colab": {
          "base_uri": "https://localhost:8080/"
        },
        "id": "Ej43N-_fmK_H",
        "outputId": "085175ff-fe52-4741-f696-7a84daf26375"
      },
      "execution_count": 3,
      "outputs": [
        {
          "output_type": "stream",
          "name": "stdout",
          "text": [
            "{1, 2, 3, 4}\n",
            "frozenset({1, 2, 3})\n"
          ]
        }
      ]
    }
  ]
}