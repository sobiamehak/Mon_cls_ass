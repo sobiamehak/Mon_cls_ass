{
  "nbformat": 4,
  "nbformat_minor": 0,
  "metadata": {
    "colab": {
      "provenance": [],
      "authorship_tag": "ABX9TyN4kUS2WYs1dfwAte6+4w3i",
      "include_colab_link": true
    },
    "kernelspec": {
      "name": "python3",
      "display_name": "Python 3"
    },
    "language_info": {
      "name": "python"
    }
  },
  "cells": [
    {
      "cell_type": "markdown",
      "metadata": {
        "id": "view-in-github",
        "colab_type": "text"
      },
      "source": [
        "<a href=\"https://colab.research.google.com/github/sobiamehak/Mon_cls_ass/blob/main/class4.ipynb\" target=\"_parent\"><img src=\"https://colab.research.google.com/assets/colab-badge.svg\" alt=\"Open In Colab\"/></a>"
      ]
    },
    {
      "cell_type": "code",
      "execution_count": 1,
      "metadata": {
        "colab": {
          "base_uri": "https://localhost:8080/"
        },
        "id": "wPTObJulrhJB",
        "outputId": "5859a1a0-0b3c-4daf-90b2-90f374707b5e"
      },
      "outputs": [
        {
          "output_type": "stream",
          "name": "stdout",
          "text": [
            "Hello, Sobia! Welcome to Python.\n",
            "Sum is: 8\n",
            "Square root of 16 is: 4.0\n"
          ]
        }
      ],
      "source": [
        "# -----------------------------------------\n",
        "# Lesson 08: Control Modules & Functions\n",
        "# -----------------------------------------\n",
        "\n",
        "# --- Function Definition ---\n",
        "# A function is a block of code that performs a specific task\n",
        "\n",
        "def greet(name):\n",
        "    \"\"\"This function prints a greeting message\"\"\"\n",
        "    print(f\"Hello, {name}! Welcome to Python.\")\n",
        "\n",
        "\n",
        "# --- Calling the Function ---\n",
        "greet(\"Sobia\")  # Output: Hello, Sobia! Welcome to Python.\n",
        "\n",
        "\n",
        "# --- Function with Return Value ---\n",
        "def add_numbers(a, b):\n",
        "    \"\"\"Returns the sum of two numbers\"\"\"\n",
        "    return a + b\n",
        "\n",
        "result = add_numbers(5, 3)\n",
        "print(\"Sum is:\", result)  # Output: Sum is: 8\n",
        "\n",
        "\n",
        "# --- Importing Built-in Module ---\n",
        "import math\n",
        "\n",
        "print(\"Square root of 16 is:\", math.sqrt(16))  # Output: 4.0\n"
      ]
    },
    {
      "cell_type": "code",
      "source": [
        "# -----------------------------------------\n",
        "# Lesson 09: Exception Handling\n",
        "# -----------------------------------------\n",
        "\n",
        "# --- Try-Except Block ---\n",
        "# Used to catch and handle errors\n",
        "\n",
        "try:\n",
        "    num = int(input(\"Enter a number: \"))\n",
        "    print(\"100 divided by your number is:\", 100 / num)\n",
        "except ZeroDivisionError:\n",
        "    print(\"Error: Cannot divide by zero.\")\n",
        "except ValueError:\n",
        "    print(\"Error: Please enter a valid number.\")\n",
        "finally:\n",
        "    print(\"Program execution complete.\")\n",
        "\n",
        "\n",
        "# --- Custom Exception Example ---\n",
        "def divide(a, b):\n",
        "    \"\"\"Handles division with exception handling\"\"\"\n",
        "    try:\n",
        "        return a / b\n",
        "    except ZeroDivisionError:\n",
        "        return \"Cannot divide by zero\"\n",
        "\n",
        "print(divide(10, 2))  # Output: 5.0\n",
        "print(divide(5, 0))   # Output: Cannot divide by zero\n"
      ],
      "metadata": {
        "colab": {
          "base_uri": "https://localhost:8080/"
        },
        "id": "MpOcA0jEr4Ra",
        "outputId": "b70a5b37-4aff-4f84-c8d2-6cb602274aaf"
      },
      "execution_count": 2,
      "outputs": [
        {
          "output_type": "stream",
          "name": "stdout",
          "text": [
            "Enter a number: 4\n",
            "100 divided by your number is: 25.0\n",
            "Program execution complete.\n",
            "5.0\n",
            "Cannot divide by zero\n"
          ]
        }
      ]
    },
    {
      "cell_type": "code",
      "source": [
        "# -----------------------------------------\n",
        "# Lesson 10: File Handling\n",
        "# -----------------------------------------\n",
        "\n",
        "# --- Writing to a File ---\n",
        "with open(\"sample.txt\", \"w\") as file:\n",
        "    file.write(\"Hello, this is a sample file.\\n\")\n",
        "    file.write(\"We are learning Python file handling.\\n\")\n",
        "\n",
        "# --- Reading from a File ---\n",
        "with open(\"sample.txt\", \"r\") as file:\n",
        "    content = file.read()\n",
        "    print(\"File content:\\n\", content)\n",
        "\n",
        "# --- Appending to a File ---\n",
        "with open(\"sample.txt\", \"a\") as file:\n",
        "    file.write(\"This line is added using append mode.\\n\")\n",
        "\n",
        "# --- Reading Line by Line ---\n",
        "with open(\"sample.txt\", \"r\") as file:\n",
        "    print(\"Reading line by line:\")\n",
        "    for line in file:\n",
        "        print(line.strip())\n"
      ],
      "metadata": {
        "colab": {
          "base_uri": "https://localhost:8080/"
        },
        "id": "dU4z7QTmsFi-",
        "outputId": "37a0be34-dca1-4596-d961-c646eb6b8507"
      },
      "execution_count": 3,
      "outputs": [
        {
          "output_type": "stream",
          "name": "stdout",
          "text": [
            "File content:\n",
            " Hello, this is a sample file.\n",
            "We are learning Python file handling.\n",
            "\n",
            "Reading line by line:\n",
            "Hello, this is a sample file.\n",
            "We are learning Python file handling.\n",
            "This line is added using append mode.\n"
          ]
        }
      ]
    },
    {
      "cell_type": "code",
      "source": [
        "# ------------------------------------------------------\n",
        "# Lesson 11: Math Module, DateTime & Calendar in Python\n",
        "# ------------------------------------------------------\n",
        "\n",
        "# --- Math Module ---\n",
        "import math\n",
        "\n",
        "print(\"Ceil of 4.2:\", math.ceil(4.2))      # Output: 5\n",
        "print(\"Floor of 4.8:\", math.floor(4.8))    # Output: 4\n",
        "print(\"Power of 2^3:\", math.pow(2, 3))     # Output: 8.0\n",
        "\n",
        "\n",
        "# --- Datetime Module ---\n",
        "import datetime\n",
        "\n",
        "current_time = datetime.datetime.now()\n",
        "print(\"Current date and time:\", current_time)\n",
        "\n",
        "# Creating a specific date\n",
        "my_birthday = datetime.date(2000, 5, 22)\n",
        "print(\"My birthday:\", my_birthday)\n",
        "\n",
        "# --- Calendar Module ---\n",
        "import calendar\n",
        "\n",
        "# Print the full calendar of 2025\n",
        "print(\"Calendar of 2025:\")\n",
        "print(calendar.calendar(2025))\n",
        "\n",
        "# Print a specific month\n",
        "print(\"December 2025:\")\n",
        "print(calendar.month(2025, 12))\n"
      ],
      "metadata": {
        "colab": {
          "base_uri": "https://localhost:8080/"
        },
        "id": "7thNz4YJsJ9M",
        "outputId": "9289a152-fd7f-47a0-d4c1-ca7d8cba29d4"
      },
      "execution_count": 4,
      "outputs": [
        {
          "output_type": "stream",
          "name": "stdout",
          "text": [
            "Ceil of 4.2: 5\n",
            "Floor of 4.8: 4\n",
            "Power of 2^3: 8.0\n",
            "Current date and time: 2025-05-22 11:12:39.262922\n",
            "My birthday: 2000-05-22\n",
            "Calendar of 2025:\n",
            "                                  2025\n",
            "\n",
            "      January                   February                   March\n",
            "Mo Tu We Th Fr Sa Su      Mo Tu We Th Fr Sa Su      Mo Tu We Th Fr Sa Su\n",
            "       1  2  3  4  5                      1  2                      1  2\n",
            " 6  7  8  9 10 11 12       3  4  5  6  7  8  9       3  4  5  6  7  8  9\n",
            "13 14 15 16 17 18 19      10 11 12 13 14 15 16      10 11 12 13 14 15 16\n",
            "20 21 22 23 24 25 26      17 18 19 20 21 22 23      17 18 19 20 21 22 23\n",
            "27 28 29 30 31            24 25 26 27 28            24 25 26 27 28 29 30\n",
            "                                                    31\n",
            "\n",
            "       April                      May                       June\n",
            "Mo Tu We Th Fr Sa Su      Mo Tu We Th Fr Sa Su      Mo Tu We Th Fr Sa Su\n",
            "    1  2  3  4  5  6                1  2  3  4                         1\n",
            " 7  8  9 10 11 12 13       5  6  7  8  9 10 11       2  3  4  5  6  7  8\n",
            "14 15 16 17 18 19 20      12 13 14 15 16 17 18       9 10 11 12 13 14 15\n",
            "21 22 23 24 25 26 27      19 20 21 22 23 24 25      16 17 18 19 20 21 22\n",
            "28 29 30                  26 27 28 29 30 31         23 24 25 26 27 28 29\n",
            "                                                    30\n",
            "\n",
            "        July                     August                  September\n",
            "Mo Tu We Th Fr Sa Su      Mo Tu We Th Fr Sa Su      Mo Tu We Th Fr Sa Su\n",
            "    1  2  3  4  5  6                   1  2  3       1  2  3  4  5  6  7\n",
            " 7  8  9 10 11 12 13       4  5  6  7  8  9 10       8  9 10 11 12 13 14\n",
            "14 15 16 17 18 19 20      11 12 13 14 15 16 17      15 16 17 18 19 20 21\n",
            "21 22 23 24 25 26 27      18 19 20 21 22 23 24      22 23 24 25 26 27 28\n",
            "28 29 30 31               25 26 27 28 29 30 31      29 30\n",
            "\n",
            "      October                   November                  December\n",
            "Mo Tu We Th Fr Sa Su      Mo Tu We Th Fr Sa Su      Mo Tu We Th Fr Sa Su\n",
            "       1  2  3  4  5                      1  2       1  2  3  4  5  6  7\n",
            " 6  7  8  9 10 11 12       3  4  5  6  7  8  9       8  9 10 11 12 13 14\n",
            "13 14 15 16 17 18 19      10 11 12 13 14 15 16      15 16 17 18 19 20 21\n",
            "20 21 22 23 24 25 26      17 18 19 20 21 22 23      22 23 24 25 26 27 28\n",
            "27 28 29 30 31            24 25 26 27 28 29 30      29 30 31\n",
            "\n",
            "December 2025:\n",
            "   December 2025\n",
            "Mo Tu We Th Fr Sa Su\n",
            " 1  2  3  4  5  6  7\n",
            " 8  9 10 11 12 13 14\n",
            "15 16 17 18 19 20 21\n",
            "22 23 24 25 26 27 28\n",
            "29 30 31\n",
            "\n"
          ]
        }
      ]
    }
  ]
}