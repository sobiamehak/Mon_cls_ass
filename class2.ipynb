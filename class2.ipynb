{
  "nbformat": 4,
  "nbformat_minor": 0,
  "metadata": {
    "colab": {
      "provenance": [],
      "authorship_tag": "ABX9TyPjAkKry0bOljYS5KM5L2hd",
      "include_colab_link": true
    },
    "kernelspec": {
      "name": "python3",
      "display_name": "Python 3"
    },
    "language_info": {
      "name": "python"
    }
  },
  "cells": [
    {
      "cell_type": "markdown",
      "metadata": {
        "id": "view-in-github",
        "colab_type": "text"
      },
      "source": [
        "<a href=\"https://colab.research.google.com/github/sobiamehak/Mon_cls_ass/blob/main/class2.ipynb\" target=\"_parent\"><img src=\"https://colab.research.google.com/assets/colab-badge.svg\" alt=\"Open In Colab\"/></a>"
      ]
    },
    {
      "cell_type": "code",
      "execution_count": 2,
      "metadata": {
        "colab": {
          "base_uri": "https://localhost:8080/"
        },
        "id": "rZlSTMLRdXe0",
        "outputId": "20838d18-2068-43d0-d110-d5379d336461"
      },
      "outputs": [
        {
          "output_type": "stream",
          "name": "stdout",
          "text": [
            "Addition: 13\n",
            "Subtraction: 7\n",
            "Multiplication: 30\n",
            "Division: 3.3333333333333335\n",
            "Modulus: 1\n",
            "Exponent: 1000\n",
            "Floor Division: 3\n"
          ]
        }
      ],
      "source": [
        "# Class 02 Assignment - March 3\n",
        "# Python Operators Examples with Comments\n",
        "\n",
        "# 1. Arithmetic Operators\n",
        "a = 10\n",
        "b = 3\n",
        "\n",
        "print(\"Addition:\", a + b)       # 10 + 3 = 13\n",
        "print(\"Subtraction:\", a - b)    # 10 - 3 = 7\n",
        "print(\"Multiplication:\", a * b) # 10 * 3 = 30\n",
        "print(\"Division:\", a / b)       # 10 / 3 = 3.33\n",
        "print(\"Modulus:\", a % b)        # 10 % 3 = 1\n",
        "print(\"Exponent:\", a ** b)      # 10^3 = 1000\n",
        "print(\"Floor Division:\", a // b) # 10 // 3 = 3"
      ]
    },
    {
      "cell_type": "code",
      "source": [
        "\n",
        "# 2. Assignment Operators\n",
        "x = 5\n",
        "x += 2   # x = x + 2 -> 7\n",
        "x -= 1   # x = x - 1 -> 6\n",
        "x *= 3   # x = x * 3 -> 18\n",
        "x /= 2   # x = x / 2 -> 9.0\n",
        "x %= 4   # x = x % 4 -> 1.0\n",
        "x **= 2  # x = x ** 2 -> 1.0\n",
        "x //= 2  # x = x // 2 -> 0.0\n",
        "print(\"Final value of x:\", x)\n"
      ],
      "metadata": {
        "colab": {
          "base_uri": "https://localhost:8080/"
        },
        "id": "F9Mz_RgydhCN",
        "outputId": "e0953937-9894-4fb3-864e-b26cb41d22f6"
      },
      "execution_count": 5,
      "outputs": [
        {
          "output_type": "stream",
          "name": "stdout",
          "text": [
            "Final value of x: 0.0\n"
          ]
        }
      ]
    },
    {
      "cell_type": "code",
      "source": [
        "\n",
        "# 3. Comparison Operators\n",
        "# Compare Strings\n",
        "name1 = \"Sobia\"\n",
        "name2 = \"sobia\"\n",
        "\n",
        "print(\"Same names?\", name1 == name2)   # False, kyunki Python case-sensitive hota hai\n",
        "print(\"name1 != name2:\", name1 != name2) # True\n",
        "\n",
        "# String length comparison\n",
        "print(\"Length compare:\", len(name1) > len(name2))  # False, same length\n",
        "\n",
        "# Compare characters (lexicographically)\n",
        "print(\"'A' < 'B':\", 'A' < 'B')   # True\n",
        "print(\"'apple' > 'banana':\", 'apple' > 'banana')  # False\n",
        "\n",
        "# Compare Boolean values\n",
        "print(\"True == 1:\", True == 1)     # True\n",
        "print(\"False == 0:\", False == 0)   # True\n",
        "print(\"True > False:\", True > False) # True\n",
        "\n",
        "# String method with comparison\n",
        "text = \"Hello\"\n",
        "\n",
        "print(\"Is all alphabetic?\", text.isalpha() == True)  # True\n",
        "print(\"Is numeric?\", text.isnumeric() == True)       # False\n",
        "\n"
      ],
      "metadata": {
        "colab": {
          "base_uri": "https://localhost:8080/"
        },
        "id": "s-raZgTWdxX1",
        "outputId": "e051f7ea-b036-4bf4-f2c8-e00f450af2cc"
      },
      "execution_count": 6,
      "outputs": [
        {
          "output_type": "stream",
          "name": "stdout",
          "text": [
            "Same names? False\n",
            "name1 != name2: True\n",
            "Length compare: False\n",
            "'A' < 'B': True\n",
            "'apple' > 'banana': False\n",
            "True == 1: True\n",
            "False == 0: True\n",
            "True > False: True\n",
            "Is all alphabetic? True\n",
            "Is numeric? False\n"
          ]
        }
      ]
    },
    {
      "cell_type": "code",
      "source": [
        "# 4. Logical Operators\n",
        "m = True\n",
        "n = False\n",
        "\n",
        "print(\"m and n:\", m and n)   # False\n",
        "print(\"m or n:\", m or n)     # True\n",
        "print(\"not m:\", not m)       # False\n",
        "\n",
        "# 5. Identity Operators\n",
        "a = [1, 2, 3]\n",
        "b = a\n",
        "c = [1, 2, 3]\n",
        "\n",
        "print(\"a is b:\", a is b)       # True (same object)\n",
        "print(\"a is c:\", a is c)       # False (same value but different objects)\n",
        "print(\"a is not c:\", a is not c) # True\n"
      ],
      "metadata": {
        "colab": {
          "base_uri": "https://localhost:8080/"
        },
        "id": "pmq_SRTRel_6",
        "outputId": "4d0e4662-843a-46e3-a9bb-c04871c4be2c"
      },
      "execution_count": 8,
      "outputs": [
        {
          "output_type": "stream",
          "name": "stdout",
          "text": [
            "m and n: False\n",
            "m or n: True\n",
            "not m: False\n",
            "a is b: True\n",
            "a is c: False\n",
            "a is not c: True\n"
          ]
        }
      ]
    },
    {
      "cell_type": "code",
      "source": [
        "# 6. Membership Operators\n",
        "items = [\"apple\", \"banana\", \"cherry\"]\n",
        "\n",
        "print(\"'banana' in items:\", 'banana' in items)     # True\n",
        "print(\"'grape' not in items:\", 'grape' not in items) # True\n",
        "\n",
        "# 7. Bitwise Operators\n",
        "x = 6  # 110 in binary\n",
        "y = 3  # 011 in binary\n",
        "\n",
        "print(\"x & y:\", x & y)   # 110 & 011 = 010 -> 2\n",
        "print(\"x | y:\", x | y)   # 110 | 011 = 111 -> 7\n",
        "print(\"x ^ y:\", x ^ y)   # 110 ^ 011 = 101 -> 5\n",
        "print(\"~x:\", ~x)         # ~110 = -7 (2's complement)\n",
        "print(\"x << 1:\", x << 1) # 110 << 1 = 1100 -> 12\n",
        "print(\"x >> 1:\", x >> 1) # 110 >> 1 = 011 -> 3"
      ],
      "metadata": {
        "colab": {
          "base_uri": "https://localhost:8080/"
        },
        "id": "a5zCvRIxerrg",
        "outputId": "35488a70-eec0-401b-8f57-ee2077e2b2ad"
      },
      "execution_count": 9,
      "outputs": [
        {
          "output_type": "stream",
          "name": "stdout",
          "text": [
            "'banana' in items: True\n",
            "'grape' not in items: True\n",
            "x & y: 2\n",
            "x | y: 7\n",
            "x ^ y: 5\n",
            "~x: -7\n",
            "x << 1: 12\n",
            "x >> 1: 3\n"
          ]
        }
      ]
    }
  ]
}